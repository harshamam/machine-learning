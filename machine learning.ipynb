{
  "metadata": {
    "language_info": {
      "name": ""
    },
    "kernelspec": {
      "name": "",
      "display_name": ""
    }
  },
  "nbformat_minor": 4,
  "nbformat": 4,
  "cells": [
    {
      "cell_type": "code",
      "source": "import sagemaker\nimport boto3\nfrom sagemaker.huggingface import HuggingFace\n\n# gets role for executing training job\niam_client = boto3.client('iam')\nrole = iam_client.get_role(RoleName='{IAM_ROLE_WITH_SAGEMAKER_PERMISSIONS}')['Role']['Arn']\nhyperparameters = {\n\t'model_name_or_path':'facebook/bart-large-cnn',\n\t'output_dir':'/opt/ml/model'\n\t# add your remaining hyperparameters\n\t# more info here https://github.com/huggingface/transformers/tree/v4.17.0/examples/pytorch/text-classification\n}\n\n# git configuration to download our fine-tuning script\ngit_config = {'repo': 'https://github.com/huggingface/transformers.git','branch': 'v4.17.0'}\n\n# creates Hugging Face estimator\nhuggingface_estimator = HuggingFace(\n\tentry_point='run_glue.py',\n\tsource_dir='./examples/pytorch/text-classification',\n\tinstance_type='ml.p3.2xlarge',\n\tinstance_count=1,\n\trole=role,\n\tgit_config=git_config,\n\ttransformers_version='4.17.0',\n\tpytorch_version='1.10.2',\n\tpy_version='py36',\n\thyperparameters = hyperparameters\n)\n\n# starting the train job\nhuggingface_estimator.fit()",
      "metadata": {},
      "execution_count": null,
      "outputs": []
    },
    {
      "cell_type": "code",
      "source": "\n",
      "metadata": {},
      "execution_count": null,
      "outputs": []
    }
  ]
}